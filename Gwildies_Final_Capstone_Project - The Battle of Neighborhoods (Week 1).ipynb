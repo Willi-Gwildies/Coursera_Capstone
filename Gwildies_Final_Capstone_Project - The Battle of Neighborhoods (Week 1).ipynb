{
 "cells": [
  {
   "cell_type": "markdown",
   "metadata": {},
   "source": [
    "# Introduction and Business Problem\n",
    "\n",
    "**Introduction:**\n",
    "- The the district Neukölln in Berlin, Germany is relativly big with 166.157 residents. There are some upcoming neighborhood which are packed with restaurants, night life and hip people. For people that are new to Neukölln it can be hard to figure out what restaurants are worth going to and where they are. For people that used to live in Neukölln or are visiting, how do they know what's the best places to get some good food or drinks?\n",
    "    \n",
    "    \n",
    "    \n",
    "**Business Problem:**\n",
    "- For this project, I am going to create a simple guide on where to eat based on Foursquare ratings, price, category and geographic location data for restaurants in Neukölln. I will then cluster these restaurants based on their similarities so that a user can easily check out what kind of food they are looking for and in what price range.    "
   ]
  },
  {
   "cell_type": "markdown",
   "metadata": {},
   "source": [
    "# Data Required\n",
    "\n",
    "For this assignment, I will be utilizing the Foursquare API to pull the following location data on restaurants in Neukölln in Berlin, Germany:\n",
    "- Venue Name\n",
    "- Venue ID\n",
    "- Venue Location\n",
    "- Venue Category\n",
    "- Rating\n",
    "- Price\n",
    "- Count of Likes\n",
    "- Phrases"
   ]
  },
  {
   "cell_type": "markdown",
   "metadata": {},
   "source": [
    "# Data Acquisition Approach\n",
    "\n",
    "To acquire the data mentioned above, I will need to do the following:\n",
    "\n",
    "- Get geolocator lat and long coordinates for Neukölln in Berlin, Germany\n",
    "- Get a list of all venues in Neukölln\n",
    "- Get venue IDs for each venue in Neukölln\n",
    "- Pull venue name, location, category, rating, price, count of likes and phrases for each venue"
   ]
  },
  {
   "cell_type": "markdown",
   "metadata": {},
   "source": [
    "# Data Usage Approach - Clustering\n",
    "\n",
    "I will use the gathered data and create a k-means clustering algorithm that groups restaurants into 4-5 clusters so that people looking to eat in Neukölln can easily see which restaurants will provide that food they are looking for."
   ]
  }
 ],
 "metadata": {
  "kernelspec": {
   "display_name": "Python 3",
   "language": "python",
   "name": "python3"
  },
  "language_info": {
   "codemirror_mode": {
    "name": "ipython",
    "version": 3
   },
   "file_extension": ".py",
   "mimetype": "text/x-python",
   "name": "python",
   "nbconvert_exporter": "python",
   "pygments_lexer": "ipython3",
   "version": "3.7.6"
  }
 },
 "nbformat": 4,
 "nbformat_minor": 2
}
