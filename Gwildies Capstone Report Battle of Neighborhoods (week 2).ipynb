{
 "cells": [
  {
   "cell_type": "markdown",
   "metadata": {},
   "source": [
    "# Capstone Report - The Battle of the Neighborhoods (Week 2)\n",
    "### Applied Data Science Capstone by IBM/Coursera\n",
    "\n",
    "## Introduction and Business Problem - Looking for restaurant locations in Berlin\n",
    "\n",
    "Introduction and Business Problem\n",
    "Berlin is Germany is a big city with twelve boroughs that are made up of a total of 96 officially recognized localities. There are some upcoming neighborhood which are packed with restaurants, night life and hip people. For people that are new to Berlin it can be hard to figure out what restaurants are worth going to and where they are. For people that used to live in Berlin or are visiting, how do they know what kind of food they get in the different neighborhoods of Berlin?\n",
    "\n",
    "For this project a simple guide is created on where to eat based on Foursquare ratings, price, category and geographic location data for restaurants in Berlin. These restaurants will be clustered based on their similarities so that users can easily check what kind of food they are looking for and in what price range.  "
   ]
  },
  {
   "cell_type": "markdown",
   "metadata": {},
   "source": [
    "## Data\n",
    "\n",
    "For this assignment the Foursquare API will be utilize to pull the following location data on restaurants in the different neighborhoods in Berlin, Germany:\n",
    "- Venue Name\n",
    "- Venue ID\n",
    "- Venue Location\n",
    "- Venue Category\n",
    "- Rating\n",
    "- Price\n",
    "\n",
    "To acquire the data mentioned above first the names of the 96 neighborhoods in Berlin are required. These data is used to get the coorinates (latitue & longitude) of each neighborhood with help of the geolocator library. Afterwards the list of all venues for each neighborhood is gathered using the Foursquare API. With the venue list an the containing \"Venue ID\" the location, category, rating, price is gathered. Before using k-means clustering the date is checked, filtered and prepared. "
   ]
  },
  {
   "cell_type": "markdown",
   "metadata": {},
   "source": [
    "## Methodology\n",
    "First the a list with all veneus is gathered. Following the creation of a dataset of neighbourhoods and their locations, we used the Foursquare API to retrieve data on venues using the location of each neighborhood. Then we filter the 'Venue Category' for restaurants and summarize some categories.\n",
    "\n",
    "\n",
    "<img src=\"Data_Venues_Neighborhoods.png\">\n",
    "\n",
    "Using one hot encoding, for each neighbourhood the most common categories of restaurant are calculated.\n",
    "\n",
    "<img src=\"Data_Venues_Top5_Neighborhoods.png\">\n",
    "\n",
    "Using this data the best number of clusters is determined. Using the \"elbow method\" the number of clusters is set to k=4. \n",
    "\n",
    "<img src=\"Data_Number_kmean_Cluster.png\" width=\"600\" align=\"center\">\n",
    "\n",
    "To visualize the data, we used k-means clustering to group together the neighbourhoods based on the venues categories. The clusters are:\n",
    "\n",
    "<img src=\"Map_Cluster_k=4.png\" width=\"500\" align=\"center\">\n",
    "\n",
    "\n",
    "- First cluster mainly Asian Food (red marks)\n",
    "- Second cluster mainly Oriantal Resaurants or Doner Places (purple marks)\n",
    "- Third cluster mainly Italian and Mediterranean Restaurants (turquoise marks)\n",
    "- Fourth cluster mainly German cuisine or vegetarian/vegan food (green marks)\n"
   ]
  },
  {
   "cell_type": "markdown",
   "metadata": {},
   "source": [
    "### Results\n",
    "\n",
    "The whole process generated four clusters, where you can find specific kinds of food per neighborhood. So it's easy to get an overview. The price and ratings of the restaurants had to be excluded because there was not enough data for every venue of the list. Only 42 got a price rating and 47 a rating of the food quality out of 265 restaurants found. So for clustering there were just the restaurant categories be used. But in the end the result is still useful"
   ]
  },
  {
   "cell_type": "markdown",
   "metadata": {},
   "source": [
    "### Discussion"
   ]
  },
  {
   "cell_type": "markdown",
   "metadata": {},
   "source": [
    "So the approach was working so far. The results would be even better if we could use the price and ratings of the restaurant. Mainly the problem is, that Foursquare is not very common in Germany. Probably it would be way more efficient to gather the data from Google in this case."
   ]
  },
  {
   "cell_type": "code",
   "execution_count": null,
   "metadata": {},
   "outputs": [],
   "source": []
  }
 ],
 "metadata": {
  "kernelspec": {
   "display_name": "Python 3",
   "language": "python",
   "name": "python3"
  },
  "language_info": {
   "codemirror_mode": {
    "name": "ipython",
    "version": 3
   },
   "file_extension": ".py",
   "mimetype": "text/x-python",
   "name": "python",
   "nbconvert_exporter": "python",
   "pygments_lexer": "ipython3",
   "version": "3.7.6"
  }
 },
 "nbformat": 4,
 "nbformat_minor": 2
}
